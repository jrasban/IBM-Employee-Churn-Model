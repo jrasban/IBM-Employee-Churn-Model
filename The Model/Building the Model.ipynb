{
 "cells": [
  {
   "cell_type": "code",
   "execution_count": 1,
   "metadata": {},
   "outputs": [],
   "source": [
    "import pandas as pd\n",
    "import numpy as np\n",
    "from sklearn.linear_model import LogisticRegression\n",
    "from sklearn import linear_model\n",
    "import scipy\n",
    "from scipy import stats\n",
    "import matplotlib.pyplot as plt\n",
    "import seaborn as sns\n",
    "from scipy.special import expit\n",
    "import warnings\n",
    "from sklearn.exceptions import DataConversionWarning\n",
    "\n",
    "sns.set()\n",
    "# pd.options.display.max_columns = None\n",
    "pd.options.display.max_rows = None\n",
    "warnings.filterwarnings('ignore',category = FutureWarning)\n",
    "warnings.filterwarnings('ignore',category = DataConversionWarning)"
   ]
  },
  {
   "cell_type": "markdown",
   "metadata": {},
   "source": [
    "# Import X and Y variables for Test and Train Datasets"
   ]
  },
  {
   "cell_type": "code",
   "execution_count": 2,
   "metadata": {},
   "outputs": [],
   "source": [
    "inputs_train = pd.read_csv('inputs_train.csv', index_col=0)\n",
    "targets_train = pd.read_csv('targets_train.csv',index_col=0)\n",
    "inputs_test = pd.read_csv('inputs_test.csv', index_col=0)\n",
    "targets_test = pd.read_csv('targets_test.csv', index_col=0)"
   ]
  },
  {
   "cell_type": "code",
   "execution_count": 3,
   "metadata": {},
   "outputs": [],
   "source": [
    "targets_test['EmployeeNumber'] = inputs_test['EmployeeNumber']"
   ]
  },
  {
   "cell_type": "code",
   "execution_count": 4,
   "metadata": {},
   "outputs": [],
   "source": [
    "ref_categories = ['BusinessTravel_Travel_Frequently'\n",
    "#                  ,'Department_Sales'\n",
    "#                  ,'Education_Below Collage'\n",
    "#                  ,'EducationField_Other'\n",
    "                 ,'EnvironmentSatisfaction_Positive'\n",
    "#                  ,'Gender_Female'\n",
    "                 ,'JobInvolvement_Positive'\n",
    "#                  ,'JobRole_Sales Representative'\n",
    "                 ,'JobSatisfaction_Positive'\n",
    "#                  ,'MaritalStatus_Married'\n",
    "                 ,'OverTime_Yes'\n",
    "                 ,'RelationshipSatisfaction_Positive'\n",
    "#                  ,'TotalWorkingYears_16-40'\n",
    "#                  ,'WorkLifeBalance_0-2'\n",
    "#                  ,'YearsAtCompany_0-5'\n",
    "#                  ,'YearsInCurrentRole_0-5'\n",
    "#                  ,'YearsSinceLastPromotion_>8'\n",
    "#                  ,'YearsWithCurrManager_>6'\n",
    "#                  ,'Age_Bins_>60'\n",
    "                 ,'Monthly_Income_0-3000'\n",
    "#                  ,'Distance_From_Home_0-5 Mi'\n",
    "#                  ,'Num_Companies_Worked_5-10'\n",
    "#                  ,'Percent_Salary_Hike_0-11%'\n",
    "#                  ,'Stock_Option_Level_0-1'\n",
    "                  \n",
    "                 ]\n",
    "\n",
    "targets_train2 = targets_train.copy()\n",
    "targets_train2['EmployeeNumber'] = inputs_train['EmployeeNumber']"
   ]
  },
  {
   "cell_type": "markdown",
   "metadata": {},
   "source": [
    "# Remove Reference Categories"
   ]
  },
  {
   "cell_type": "code",
   "execution_count": 5,
   "metadata": {},
   "outputs": [],
   "source": [
    "filtercol = ['BusinessTravel_Non-Travel'\n",
    "            ,'BusinessTravel_Travel_Frequently'\n",
    "            ,'BusinessTravel_Travel_Rarely'\n",
    "#             ,'Department_Human Resources'\n",
    "#             ,'Department_Research & Development'\n",
    "#             ,'Department_Sales'\n",
    "#             ,'Education_Bachelor'\n",
    "#             ,'Education_Below Collage'\n",
    "#             ,'Education_College'\n",
    "#             ,'Education_Doctor'\n",
    "#             ,'Education_Master'                    \n",
    "#             ,'EducationField_Human Resources'\n",
    "#             ,'EducationField_Life Sciences'\n",
    "#             ,'EducationField_Marketing'\n",
    "#             ,'EducationField_Medical'\n",
    "#             ,'EducationField_Other'\n",
    "#             ,'EducationField_Technical Degree'\n",
    "            ,'EnvironmentSatisfaction_Positive'\n",
    "            ,'EnvironmentSatisfaction_Negative'\n",
    "#             ,'Gender_Female'\n",
    "#             ,'Gender_Male'\n",
    "            ,'JobInvolvement_Positive'\n",
    "            ,'JobInvolvement_Negative'\n",
    "#             ,'JobRole_Healthcare Representative'\n",
    "#             ,'JobRole_Human Resources'\n",
    "#             ,'JobRole_Laboratory Technician'\n",
    "#             ,'JobRole_Manager'\n",
    "#             ,'JobRole_Manufacturing Director'\n",
    "#             ,'JobRole_Research Director'\n",
    "#             ,'JobRole_Research Scientist'\n",
    "#             ,'JobRole_Sales Executive'\n",
    "#             ,'JobRole_Sales Representative'\n",
    "            ,'JobSatisfaction_Positive'\n",
    "            ,'JobSatisfaction_Negative'\n",
    "#             ,'MaritalStatus_Divorced'\n",
    "#             ,'MaritalStatus_Married'\n",
    "#             ,'MaritalStatus_Single'\n",
    "            ,'OverTime_No'\n",
    "            ,'OverTime_Yes'\n",
    "            ,'RelationshipSatisfaction_Positive'\n",
    "            ,'RelationshipSatisfaction_Negative'\n",
    "#             ,'TotalWorkingYears_0-7'\n",
    "#             ,'TotalWorkingYears_8-15'\n",
    "#             ,'TotalWorkingYears_16-40'\n",
    "#             ,'WorkLifeBalance_0-2'\n",
    "#             ,'WorkLifeBalance_3'\n",
    "#             ,'WorkLifeBalance_4'\n",
    "#             ,'YearsAtCompany_0-5'\n",
    "#             ,'YearsAtCompany_6-10'\n",
    "#             ,'YearsAtCompany_11-40'\n",
    "#             ,'YearsInCurrentRole_0-5'\n",
    "#             ,'YearsInCurrentRole_6-7'\n",
    "#             ,'YearsInCurrentRole_>8'\n",
    "#             ,'YearsSinceLastPromotion_0-3'\n",
    "#             ,'YearsSinceLastPromotion_4-7'\n",
    "#             ,'YearsSinceLastPromotion_>8'\n",
    "#             ,'YearsWithCurrManager_0-2'\n",
    "#             ,'YearsWithCurrManager_3-5'\n",
    "#             ,'YearsWithCurrManager_>6'\n",
    "#             ,'Age_Bins_0-25'\n",
    "#             ,'Age_Bins_26-30'\n",
    "#             ,'Age_Bins_31-40'\n",
    "#             ,'Age_Bins_>60'\n",
    "            ,'Monthly_Income_0-3000'\n",
    "            ,'Monthly_Income_3001-5000'\n",
    "            ,'Monthly_Income_5001-10000'\n",
    "            ,'Monthly_Income_10001-20000'\n",
    "#             ,'Distance_From_Home_0-5 Mi'\n",
    "#             ,'Distance_From_Home_6-10 Mi'\n",
    "#             ,'Distance_From_Home_11-15 Mi'\n",
    "#             ,'Distance_From_Home_16-30 Mi'\n",
    "#             ,'Num_Companies_Worked_0-2'\n",
    "#             ,'Num_Companies_Worked_3-4'\n",
    "#             ,'Num_Companies_Worked_5-10'\n",
    "#             ,'Percent_Salary_Hike_0-11%'\n",
    "#             ,'Percent_Salary_Hike_12-15%'\n",
    "#             ,'Percent_Salary_Hike_16-30%'\n",
    "#             ,'Stock_Option_Level_0-1'\n",
    "#             ,'Stock_Option_Level_2-3'\n",
    "            ]\n",
    "\n",
    "inputs_train_w_ref_cat = inputs_train.loc[:, filtercol]\n",
    "\n",
    "inputs_train = inputs_train_w_ref_cat.drop(ref_categories, axis=1)\n"
   ]
  },
  {
   "cell_type": "markdown",
   "metadata": {},
   "source": [
    "# Run Regression"
   ]
  },
  {
   "cell_type": "code",
   "execution_count": 6,
   "metadata": {
    "scrolled": false
   },
   "outputs": [
    {
     "name": "stdout",
     "output_type": "stream",
     "text": [
      "                         feature_name  Coefficients\n",
      "0                           Intercept     -1.144939\n",
      "1           BusinessTravel_Non-Travel      0.891719\n",
      "2        BusinessTravel_Travel_Rarely      0.617024\n",
      "3    EnvironmentSatisfaction_Negative     -0.655486\n",
      "4             JobInvolvement_Negative     -0.477249\n",
      "5            JobSatisfaction_Negative     -0.474296\n",
      "6                         OverTime_No      1.406433\n",
      "7   RelationshipSatisfaction_Negative     -0.406061\n",
      "8            Monthly_Income_3001-5000      0.684702\n",
      "9           Monthly_Income_5001-10000      0.995547\n",
      "10         Monthly_Income_10001-20000      0.945487\n"
     ]
    }
   ],
   "source": [
    "reg = LogisticRegression()\n",
    "reg.fit(inputs_train, targets_train)\n",
    "feature_name = inputs_train.columns.values\n",
    "summary_table = pd.DataFrame(columns=['feature_name'], data=feature_name)\n",
    "summary_table['Coefficients'] = np.transpose(reg.coef_)\n",
    "summary_table.index = summary_table.index + 1\n",
    "summary_table.loc[0] = ['Intercept', reg.intercept_[0]]\n",
    "summary_table = summary_table.sort_index()\n",
    "print(summary_table)"
   ]
  },
  {
   "cell_type": "markdown",
   "metadata": {},
   "source": [
    "# Build Logistic Regression"
   ]
  },
  {
   "cell_type": "code",
   "execution_count": 7,
   "metadata": {
    "scrolled": false
   },
   "outputs": [
    {
     "name": "stdout",
     "output_type": "stream",
     "text": [
      "                         feature_name  Coefficients      p_values\n",
      "0                           Intercept     -1.144939           NaN\n",
      "1           BusinessTravel_Non-Travel      0.891719  6.672337e-02\n",
      "2        BusinessTravel_Travel_Rarely      0.617024  7.826536e-03\n",
      "3    EnvironmentSatisfaction_Negative     -0.655486  4.625751e-03\n",
      "4             JobInvolvement_Negative     -0.477249  4.205046e-02\n",
      "5            JobSatisfaction_Negative     -0.474296  4.032231e-02\n",
      "6                         OverTime_No      1.406433  2.953546e-10\n",
      "7   RelationshipSatisfaction_Negative     -0.406061  8.365895e-02\n",
      "8            Monthly_Income_3001-5000      0.684702  2.230948e-02\n",
      "9           Monthly_Income_5001-10000      0.995547  3.543563e-04\n",
      "10         Monthly_Income_10001-20000      0.945487  4.988624e-03\n"
     ]
    }
   ],
   "source": [
    "class LogisticRegression_with_p_values:\n",
    "    def __init__(self, *args, **kwargs):\n",
    "        self.model = linear_model.LogisticRegression(*args, **kwargs, max_iter=100000)\n",
    "\n",
    "    def fit(self, X, y):\n",
    "        self.model.fit(X, y)\n",
    "        denom = (2.0 * (1.0 + np.cosh(self.model.decision_function(X))))\n",
    "        denom = np.tile(denom, (X.shape[1], 1)).T\n",
    "        f_ij = np.dot((X / denom).T, X)\n",
    "        Cramer_Rao = np.linalg.inv(f_ij)\n",
    "        sigma_estimates = np.sqrt(np.diagonal(Cramer_Rao))\n",
    "        z_scores = self.model.coef_[0] / sigma_estimates\n",
    "        p_values = [scipy.stats.norm.sf(abs(x)) * 2 for x in z_scores]\n",
    "        self.p_values = p_values\n",
    "\n",
    "\n",
    "reg2 = LogisticRegression_with_p_values()\n",
    "reg2.fit(inputs_train, targets_train)\n",
    "feature_name = inputs_train.columns.values\n",
    "summary_table = pd.DataFrame(columns=['feature_name'], data=feature_name)\n",
    "summary_table['Coefficients'] = np.transpose(reg.coef_)\n",
    "summary_table.index = summary_table.index + 1\n",
    "summary_table.loc[0] = ['Intercept', reg.intercept_[0]]\n",
    "summary_table = summary_table.sort_index()\n",
    "p_values = reg2.p_values\n",
    "# print(p_values)\n",
    "p_values = np.append(np.nan, np.array(p_values))\n",
    "summary_table['p_values'] = p_values\n",
    "print(summary_table)\n",
    "summary_table.to_excel('ModelSummary.xlsx')"
   ]
  },
  {
   "cell_type": "markdown",
   "metadata": {},
   "source": [
    "# Validate the Model"
   ]
  },
  {
   "cell_type": "code",
   "execution_count": 8,
   "metadata": {
    "scrolled": true
   },
   "outputs": [
    {
     "name": "stdout",
     "output_type": "stream",
     "text": [
      "Predicted   0   1\n",
      "Actual           \n",
      "0          40   7\n",
      "1          18  30\n",
      "0.7368421052631579\n"
     ]
    }
   ],
   "source": [
    "inputs_test_w_ref_cat = inputs_test.loc[:, filtercol]\n",
    "inputs_test = inputs_test_w_ref_cat.drop(ref_categories, axis=1)\n",
    "inputs_train = inputs_test_w_ref_cat.drop(ref_categories, axis=1)\n",
    "\n",
    "'''TEST DATASET PROBABILITY OF Attrition'''\n",
    "y_hat_test = reg2.model.predict(inputs_test)\n",
    "# print(y_hat_test)\n",
    "y_hat_test_proba = reg2.model.predict_proba(inputs_test)\n",
    "# print(y_hat_test_proba)\n",
    "y_hat_test_proba = y_hat_test_proba[:][:, 1]  # Change 0 back to a 1 to get the probability of No Attrition\n",
    "targets_test_temp = targets_test\n",
    "targets_test_temp.reset_index(drop=True, inplace=True)\n",
    "actual_predicted_probs = pd.concat([targets_test_temp, pd.DataFrame(y_hat_test_proba)], axis=1)\n",
    "actual_predicted_probs.columns = ['Attrition', 'EmployeeNumber', 'y_hat_test_proba']\n",
    "# print(actual_predicted_probs)\n",
    "# \n",
    "'''ACCURACY OF TEST PROBABILITY'''\n",
    "tr = .6\n",
    "actual_predicted_probs['y_hat_test'] = np.where(actual_predicted_probs['y_hat_test_proba'] > tr, 1, 0)\n",
    "print(pd.crosstab(actual_predicted_probs['Attrition'], actual_predicted_probs['y_hat_test'], rownames=['Actual'],\n",
    "                  colnames=['Predicted']))\n",
    "print((pd.crosstab(actual_predicted_probs['Attrition'], actual_predicted_probs['y_hat_test'], rownames=['Actual'],\n",
    "                   colnames=['Predicted']) / actual_predicted_probs.shape[0]).iloc[0, 0]\n",
    "      + (pd.crosstab(actual_predicted_probs['Attrition'], actual_predicted_probs['y_hat_test'], rownames=['Actual'],\n",
    "                     colnames=['Predicted']) / actual_predicted_probs.shape[0]).iloc[1, 1])"
   ]
  }
 ],
 "metadata": {
  "kernelspec": {
   "display_name": "Python 3",
   "language": "python",
   "name": "python3"
  },
  "language_info": {
   "codemirror_mode": {
    "name": "ipython",
    "version": 3
   },
   "file_extension": ".py",
   "mimetype": "text/x-python",
   "name": "python",
   "nbconvert_exporter": "python",
   "pygments_lexer": "ipython3",
   "version": "3.7.3"
  }
 },
 "nbformat": 4,
 "nbformat_minor": 2
}
