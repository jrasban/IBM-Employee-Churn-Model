{
 "cells": [
  {
   "cell_type": "code",
   "execution_count": 83,
   "metadata": {},
   "outputs": [],
   "source": [
    "\n",
    "import pandas as pd\n",
    "import numpy as np\n",
    "from sklearn.linear_model import LogisticRegression\n",
    "from sklearn import linear_model\n",
    "import scipy\n",
    "from scipy import stats\n",
    "import matplotlib.pyplot as plt\n",
    "import seaborn as sns\n",
    "from scipy.special import expit\n",
    "sns.set()\n",
    "# pd.options.display.max_columns = None\n",
    "pd.options.display.max_rows = None"
   ]
  },
  {
   "cell_type": "markdown",
   "metadata": {},
   "source": [
    "# Import X and Y variables for Test and Train Datasets"
   ]
  },
  {
   "cell_type": "code",
   "execution_count": 84,
   "metadata": {},
   "outputs": [],
   "source": [
    "inputs_train = pd.read_csv('inputs_train.csv', index_col=0)\n",
    "targets_train = pd.read_csv('targets_train.csv',index_col=0)\n",
    "inputs_test = pd.read_csv('inputs_test.csv', index_col=0)\n",
    "targets_test = pd.read_csv('targets_test.csv', index_col=0)"
   ]
  },
  {
   "cell_type": "code",
   "execution_count": 85,
   "metadata": {},
   "outputs": [],
   "source": [
    "targets_test['EmployeeNumber'] = inputs_test['EmployeeNumber']"
   ]
  },
  {
   "cell_type": "code",
   "execution_count": 86,
   "metadata": {},
   "outputs": [],
   "source": [
    "ref_categories = [ 'AGE 31-60'\n",
    "                    ,'Freq_Bus_Travel'\n",
    "                    ,'Commute Distance >=10mi'\n",
    "                    ,'EnvironmentSatisfaction Survey Response 1'\n",
    "                    ,'Job Satisfaction Survey Response 1'\n",
    "                    ,'Single'\n",
    "                    ,'NumCompaniesWorkedAt >=3'\n",
    "                    # ,'Years At Company >=9'\n",
    "                    , 'Total Working Years 8-11'\n",
    "                    # ,'Years In Current Role >=13'\n",
    "                    ,'Monthly Income 0-4000']\n",
    "\n",
    "targets_train2 = targets_train.copy()\n",
    "targets_train2['EmployeeNumber'] = inputs_train['EmployeeNumber']"
   ]
  },
  {
   "cell_type": "markdown",
   "metadata": {},
   "source": [
    "# Remove Reference Categories"
   ]
  },
  {
   "cell_type": "code",
   "execution_count": 87,
   "metadata": {},
   "outputs": [],
   "source": [
    "filtercol = ['AGE 18-30'\n",
    "            ,'AGE 31-60'\n",
    "            ,'Total Working Years 0-7'\n",
    "            ,'Total Working Years 8-11'\n",
    "            ,'Total Working Years >=12'\n",
    "            ,'Freq_Bus_Travel'\n",
    "            ,'Rare_Bus_Travel'\n",
    "            ,'Non-Travel'\n",
    "            ,'Commute Distance 0-3mi'\n",
    "            ,'Commute Distance 3-9mi'\n",
    "            ,'Commute Distance >=10mi'\n",
    "            ,'EnvironmentSatisfaction Survey Response 1'\n",
    "            ,'EnvironmentSatisfaction Survey Response 2'\n",
    "            ,'EnvironmentSatisfaction Survey Response 3'\n",
    "            ,'EnvironmentSatisfaction Survey Response 4'\n",
    "            ,'Job Satisfaction Survey Response 1'\n",
    "            ,'Job Satisfaction Survey Response 2'\n",
    "            ,'Job Satisfaction Survey Response 3'\n",
    "            ,'Job Satisfaction Survey Response 4'\n",
    "            ,'Single'\n",
    "            ,'Married'\n",
    "            ,'Divorced'\n",
    "            ,'Is Male'\n",
    "            ,'NumCompaniesWorkedAt 0-2'\n",
    "            ,'NumCompaniesWorkedAt >=3'\n",
    "            ,'Overtime'\n",
    "            # ,'Years At Company 0-4'\n",
    "            # ,'Years At Company 5-8'\n",
    "            # ,'Years At Company >=9'\n",
    "            # ,'Years In Current Role 0-6'\n",
    "            # ,'Years In Current Role 7-12'\n",
    "            # ,'Years In Current Role >=13'\n",
    "            ,'Monthly Income 0-4000'\n",
    "            ,'Monthly Income 4001-6000'\n",
    "            ,'Monthly Income 6001-8000'\n",
    "            ,'Monthly Income >=8001']\n",
    "\n",
    "inputs_train_w_ref_cat = inputs_train.loc[:, filtercol]\n",
    "\n",
    "inputs_train = inputs_train_w_ref_cat.drop(ref_categories, axis=1)\n"
   ]
  },
  {
   "cell_type": "markdown",
   "metadata": {},
   "source": [
    "# Run Regression"
   ]
  },
  {
   "cell_type": "code",
   "execution_count": 88,
   "metadata": {},
   "outputs": [
    {
     "name": "stdout",
     "output_type": "stream",
     "text": [
      "                                 feature_name  Coefficients\n",
      "0                                   Intercept     -0.622500\n",
      "1                                   AGE 18-30     -0.628665\n",
      "2                     Total Working Years 0-7     -0.422160\n",
      "3                    Total Working Years >=12      0.369489\n",
      "4                             Rare_Bus_Travel      0.686157\n",
      "5                                  Non-Travel      1.200156\n",
      "6                      Commute Distance 0-3mi      0.481802\n",
      "7                      Commute Distance 3-9mi      0.384624\n",
      "8   EnvironmentSatisfaction Survey Response 2      0.584597\n",
      "9   EnvironmentSatisfaction Survey Response 3      0.792122\n",
      "10  EnvironmentSatisfaction Survey Response 4      0.869154\n",
      "11         Job Satisfaction Survey Response 2      0.540854\n",
      "12         Job Satisfaction Survey Response 3      0.435474\n",
      "13         Job Satisfaction Survey Response 4      1.019780\n",
      "14                                    Married      0.982478\n",
      "15                                   Divorced      1.403201\n",
      "16                                    Is Male     -0.326287\n",
      "17                   NumCompaniesWorkedAt 0-2      0.633464\n",
      "18                                   Overtime     -1.728816\n",
      "19                   Monthly Income 4001-6000      0.876322\n",
      "20                   Monthly Income 6001-8000      0.873850\n",
      "21                      Monthly Income >=8001      0.450744\n"
     ]
    },
    {
     "name": "stderr",
     "output_type": "stream",
     "text": [
      "C:\\Users\\jr2sw\\Anaconda3\\lib\\site-packages\\sklearn\\linear_model\\logistic.py:432: FutureWarning: Default solver will be changed to 'lbfgs' in 0.22. Specify a solver to silence this warning.\n",
      "  FutureWarning)\n",
      "C:\\Users\\jr2sw\\Anaconda3\\lib\\site-packages\\sklearn\\utils\\validation.py:724: DataConversionWarning: A column-vector y was passed when a 1d array was expected. Please change the shape of y to (n_samples, ), for example using ravel().\n",
      "  y = column_or_1d(y, warn=True)\n"
     ]
    }
   ],
   "source": [
    "reg = LogisticRegression()\n",
    "reg.fit(inputs_train, targets_train)\n",
    "feature_name = inputs_train.columns.values\n",
    "summary_table = pd.DataFrame(columns=['feature_name'], data=feature_name)\n",
    "summary_table['Coefficients'] = np.transpose(reg.coef_)\n",
    "summary_table.index = summary_table.index + 1\n",
    "summary_table.loc[0] = ['Intercept', reg.intercept_[0]]\n",
    "summary_table = summary_table.sort_index()\n",
    "print(summary_table)"
   ]
  },
  {
   "cell_type": "markdown",
   "metadata": {},
   "source": [
    "# Build Logistic Regression"
   ]
  },
  {
   "cell_type": "code",
   "execution_count": 89,
   "metadata": {},
   "outputs": [
    {
     "name": "stdout",
     "output_type": "stream",
     "text": [
      "                                 feature_name  Coefficients      p_values\n",
      "0                                   Intercept     -0.622500           NaN\n",
      "1                                   AGE 18-30     -0.628665  3.932559e-03\n",
      "2                     Total Working Years 0-7     -0.422160  7.994376e-02\n",
      "3                    Total Working Years >=12      0.369489  1.939061e-01\n",
      "4                             Rare_Bus_Travel      0.686157  4.602279e-04\n",
      "5                                  Non-Travel      1.200156  2.350791e-03\n",
      "6                      Commute Distance 0-3mi      0.481802  2.013668e-02\n",
      "7                      Commute Distance 3-9mi      0.384624  7.317656e-02\n",
      "8   EnvironmentSatisfaction Survey Response 2      0.584597  2.377254e-02\n",
      "9   EnvironmentSatisfaction Survey Response 3      0.792122  7.590805e-04\n",
      "10  EnvironmentSatisfaction Survey Response 4      0.869154  2.871410e-04\n",
      "11         Job Satisfaction Survey Response 2      0.540854  4.193058e-02\n",
      "12         Job Satisfaction Survey Response 3      0.435474  5.697375e-02\n",
      "13         Job Satisfaction Survey Response 4      1.019780  2.526439e-05\n",
      "14                                    Married      0.982478  4.549879e-07\n",
      "15                                   Divorced      1.403201  5.374481e-08\n",
      "16                                    Is Male     -0.326287  7.105006e-02\n",
      "17                   NumCompaniesWorkedAt 0-2      0.633464  1.079357e-03\n",
      "18                                   Overtime     -1.728816  1.395424e-20\n",
      "19                   Monthly Income 4001-6000      0.876322  2.636773e-04\n",
      "20                   Monthly Income 6001-8000      0.873850  1.358361e-02\n",
      "21                      Monthly Income >=8001      0.450744  1.270327e-01\n"
     ]
    },
    {
     "name": "stderr",
     "output_type": "stream",
     "text": [
      "C:\\Users\\jr2sw\\Anaconda3\\lib\\site-packages\\sklearn\\linear_model\\logistic.py:432: FutureWarning: Default solver will be changed to 'lbfgs' in 0.22. Specify a solver to silence this warning.\n",
      "  FutureWarning)\n",
      "C:\\Users\\jr2sw\\Anaconda3\\lib\\site-packages\\sklearn\\utils\\validation.py:724: DataConversionWarning: A column-vector y was passed when a 1d array was expected. Please change the shape of y to (n_samples, ), for example using ravel().\n",
      "  y = column_or_1d(y, warn=True)\n"
     ]
    }
   ],
   "source": [
    "class LogisticRegression_with_p_values:\n",
    "    def __init__(self, *args, **kwargs):\n",
    "        self.model = linear_model.LogisticRegression(*args, **kwargs, max_iter=100000)\n",
    "\n",
    "    def fit(self, X, y):\n",
    "        self.model.fit(X, y)\n",
    "        denom = (2.0 * (1.0 + np.cosh(self.model.decision_function(X))))\n",
    "        denom = np.tile(denom, (X.shape[1], 1)).T\n",
    "        f_ij = np.dot((X / denom).T, X)\n",
    "        Cramer_Rao = np.linalg.inv(f_ij)\n",
    "        sigma_estimates = np.sqrt(np.diagonal(Cramer_Rao))\n",
    "        z_scores = self.model.coef_[0] / sigma_estimates\n",
    "        p_values = [scipy.stats.norm.sf(abs(x)) * 2 for x in z_scores]\n",
    "        self.p_values = p_values\n",
    "\n",
    "\n",
    "reg2 = LogisticRegression_with_p_values()\n",
    "reg2.fit(inputs_train, targets_train)\n",
    "feature_name = inputs_train.columns.values\n",
    "summary_table = pd.DataFrame(columns=['feature_name'], data=feature_name)\n",
    "summary_table['Coefficients'] = np.transpose(reg.coef_)\n",
    "summary_table.index = summary_table.index + 1\n",
    "summary_table.loc[0] = ['Intercept', reg.intercept_[0]]\n",
    "summary_table = summary_table.sort_index()\n",
    "p_values = reg2.p_values\n",
    "# print(p_values)\n",
    "p_values = np.append(np.nan, np.array(p_values))\n",
    "summary_table['p_values'] = p_values\n",
    "print(summary_table)\n",
    "summary_table.to_excel('ModelSummary.xlsx')"
   ]
  },
  {
   "cell_type": "markdown",
   "metadata": {},
   "source": [
    "# Validate the Model"
   ]
  },
  {
   "cell_type": "code",
   "execution_count": 90,
   "metadata": {},
   "outputs": [
    {
     "name": "stdout",
     "output_type": "stream",
     "text": [
      "Predicted   0    1\n",
      "Actual            \n",
      "0          24   15\n",
      "1          55  200\n",
      "0.7619047619047619\n"
     ]
    }
   ],
   "source": [
    "inputs_test_w_ref_cat = inputs_test.loc[:, filtercol]\n",
    "inputs_test = inputs_test_w_ref_cat.drop(ref_categories, axis=1)\n",
    "inputs_train = inputs_test_w_ref_cat.drop(ref_categories, axis=1)\n",
    "\n",
    "'''TEST DATASET PROBABILITY OF Attrition'''\n",
    "y_hat_test = reg2.model.predict(inputs_test)\n",
    "# print(y_hat_test)\n",
    "y_hat_test_proba = reg2.model.predict_proba(inputs_test)\n",
    "# print(y_hat_test_proba)\n",
    "y_hat_test_proba = y_hat_test_proba[:][:, 1]  # Change 0 back to a 1 to get the probability of No Attrition\n",
    "targets_test_temp = targets_test\n",
    "targets_test_temp.reset_index(drop=True, inplace=True)\n",
    "actual_predicted_probs = pd.concat([targets_test_temp, pd.DataFrame(y_hat_test_proba)], axis=1)\n",
    "actual_predicted_probs.columns = ['Attrition', 'EmployeeNumber', 'y_hat_test_proba']\n",
    "# print(actual_predicted_probs)\n",
    "\n",
    "'''ACCURACY OF TEST PROBABILITY'''\n",
    "tr = 0.80\n",
    "actual_predicted_probs['y_hat_test'] = np.where(actual_predicted_probs['y_hat_test_proba'] > tr, 1, 0)\n",
    "print(pd.crosstab(actual_predicted_probs['Attrition'], actual_predicted_probs['y_hat_test'], rownames=['Actual'],\n",
    "                  colnames=['Predicted']))\n",
    "print((pd.crosstab(actual_predicted_probs['Attrition'], actual_predicted_probs['y_hat_test'], rownames=['Actual'],\n",
    "                   colnames=['Predicted']) / actual_predicted_probs.shape[0]).iloc[0, 0]\n",
    "      + (pd.crosstab(actual_predicted_probs['Attrition'], actual_predicted_probs['y_hat_test'], rownames=['Actual'],\n",
    "                     colnames=['Predicted']) / actual_predicted_probs.shape[0]).iloc[1, 1])"
   ]
  }
 ],
 "metadata": {
  "kernelspec": {
   "display_name": "Python 3",
   "language": "python",
   "name": "python3"
  },
  "language_info": {
   "codemirror_mode": {
    "name": "ipython",
    "version": 3
   },
   "file_extension": ".py",
   "mimetype": "text/x-python",
   "name": "python",
   "nbconvert_exporter": "python",
   "pygments_lexer": "ipython3",
   "version": "3.7.3"
  }
 },
 "nbformat": 4,
 "nbformat_minor": 2
}
